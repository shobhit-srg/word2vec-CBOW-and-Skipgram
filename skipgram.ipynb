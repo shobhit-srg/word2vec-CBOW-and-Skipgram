{
  "nbformat": 4,
  "nbformat_minor": 0,
  "metadata": {
    "colab": {
      "name": "nlp.ipynb",
      "provenance": [],
      "collapsed_sections": []
    },
    "kernelspec": {
      "name": "python3",
      "display_name": "Python 3"
    }
  },
  "cells": [
    {
      "cell_type": "markdown",
      "metadata": {
        "id": "zr55gFcOpcJn",
        "colab_type": "text"
      },
      "source": [
        "# Skipgram Model\n"
      ]
    },
    {
      "cell_type": "code",
      "metadata": {
        "id": "pbMkc5qVMzNR",
        "colab_type": "code",
        "colab": {
          "base_uri": "https://localhost:8080/",
          "height": 34
        },
        "outputId": "ff83522d-868b-482f-89cb-d796220cd3d3"
      },
      "source": [
        "from google.colab import drive\n",
        "drive.mount('/content/gdrive')\n",
        "root_path = 'gdrive/My Drive/nlp/'"
      ],
      "execution_count": 26,
      "outputs": [
        {
          "output_type": "stream",
          "text": [
            "Drive already mounted at /content/gdrive; to attempt to forcibly remount, call drive.mount(\"/content/gdrive\", force_remount=True).\n"
          ],
          "name": "stdout"
        }
      ]
    },
    {
      "cell_type": "markdown",
      "metadata": {
        "id": "IOh-F-Ezph0x",
        "colab_type": "text"
      },
      "source": [
        "Reading Sentences from JSON File and splitting to tokens"
      ]
    },
    {
      "cell_type": "code",
      "metadata": {
        "id": "aQ3xq4ZQOJJ2",
        "colab_type": "code",
        "colab": {
          "base_uri": "https://localhost:8080/",
          "height": 34
        },
        "outputId": "77add9c2-53cc-4523-de1c-af40263dbd7a"
      },
      "source": [
        "f = open(root_path+\"reviews_Electronics_5.json\",)\n",
        "u=50000\n",
        "sentences=\"\"\n",
        "while u>0:\n",
        "  line= f.readline()\n",
        "  dic=eval(line)\n",
        "  sentences+=dic['reviewText'].lower()\n",
        "  u=u-1\n",
        "print(len(sentences))\n",
        "sentences=sentences.split()\n",
        "# print(sentences)"
      ],
      "execution_count": 36,
      "outputs": [
        {
          "output_type": "stream",
          "text": [
            "467112\n"
          ],
          "name": "stdout"
        }
      ]
    },
    {
      "cell_type": "markdown",
      "metadata": {
        "id": "OynnQufVpshF",
        "colab_type": "text"
      },
      "source": [
        "Removing Numericals and stopwords and blank tokens\n",
        "\n",
        "\n"
      ]
    },
    {
      "cell_type": "code",
      "metadata": {
        "id": "WaKDdRm4Izyf",
        "colab_type": "code",
        "colab": {
          "base_uri": "https://localhost:8080/",
          "height": 51
        },
        "outputId": "040110e7-c7a8-4e1e-ffd8-fd1ca9f437ce"
      },
      "source": [
        "import string\n",
        "from collections import defaultdict \n",
        "from spacy.lang.en.stop_words import STOP_WORDS\n",
        "table = str.maketrans('', '', string.punctuation)\n",
        "corpus = [w.translate(table) for w in sentences]\n",
        "def hasNumbers(inputString):\n",
        "  return any(char.isdigit() for char in inputString)\n",
        "for i in corpus:\n",
        "  if hasNumbers(i):\n",
        "    corpus.remove(i)\n",
        "  elif i in STOP_WORDS:\n",
        "    corpus.remove(i)\n",
        "  elif i == \"\":\n",
        "    corpus.remove(i)\n",
        "\n",
        "# print(corpus)\n",
        "print(\"Total words: {}\".format(len(corpus)))\n",
        "print(\"Unique words: {}\".format(len(set(corpus))))\n",
        "\n"
      ],
      "execution_count": 37,
      "outputs": [
        {
          "output_type": "stream",
          "text": [
            "Total words: 54200\n",
            "Unique words: 7399\n"
          ],
          "name": "stdout"
        }
      ]
    },
    {
      "cell_type": "markdown",
      "metadata": {
        "id": "_EONw-yrpzZV",
        "colab_type": "text"
      },
      "source": [
        "# Subsampling\n",
        "\n"
      ]
    },
    {
      "cell_type": "code",
      "metadata": {
        "id": "rUK2lyx8LkHP",
        "colab_type": "code",
        "colab": {
          "base_uri": "https://localhost:8080/",
          "height": 51
        },
        "outputId": "f27f117b-c933-4922-98d5-28729b4fa0ce"
      },
      "source": [
        "c=defaultdict(int)\n",
        "for i in corpus:\n",
        "  c[i] +=1\n",
        "import numpy as np\n",
        "def subsampling(corpus):\n",
        "  new_corpus=[]\n",
        "  for w in corpus:\n",
        "    cnt=c[w]\n",
        "    freq=cnt/len(corpus)\n",
        "    prob = (np.sqrt(freq/0.001) + 1) * (0.001/freq)\n",
        "    if np.random.random() < prob:   #generates random number (0,1)\n",
        "      new_corpus.append(w)\n",
        "  return new_corpus\n",
        "\n",
        "corpus=subsampling(corpus)\n",
        "# print(corpus)\n",
        "print(\"Total words: {}\".format(len(corpus)))\n",
        "print(\"Unique words: {}\".format(len(set(corpus))))"
      ],
      "execution_count": 38,
      "outputs": [
        {
          "output_type": "stream",
          "text": [
            "Total words: 46857\n",
            "Unique words: 7399\n"
          ],
          "name": "stdout"
        }
      ]
    },
    {
      "cell_type": "code",
      "metadata": {
        "id": "gaRlPeOIT_qu",
        "colab_type": "code",
        "colab": {}
      },
      "source": [
        "c3=defaultdict(int)\n",
        "for i in corpus:\n",
        "  c3[i] +=1\n",
        "# print(c3)"
      ],
      "execution_count": 39,
      "outputs": []
    },
    {
      "cell_type": "markdown",
      "metadata": {
        "id": "XN4Z7QcXp3TQ",
        "colab_type": "text"
      },
      "source": [
        "Removing Less frequent Words"
      ]
    },
    {
      "cell_type": "code",
      "metadata": {
        "id": "KvLwcg8sbwKO",
        "colab_type": "code",
        "colab": {
          "base_uri": "https://localhost:8080/",
          "height": 68
        },
        "outputId": "6b694d44-0e1a-40d1-caa3-cad9f6b4d40d"
      },
      "source": [
        "for i in corpus:\n",
        "  if c3[i] < 8:\n",
        "    corpus.remove(i)\n",
        "\n",
        "c=defaultdict(int)\n",
        "for i in corpus:\n",
        "  c[i] +=1\n",
        "# print(c)\n",
        "c1=sorted(c.keys())\n",
        "vocab = defaultdict(int)\n",
        "for i in range(len(c1)): \n",
        "  vocab[c1[i]]=i\n",
        "print(\"Total words: {}\".format(len(corpus)))\n",
        "print(\"Unique words: {}\".format(len(set(corpus))))\n",
        "V=len(vocab)\n",
        "# print(vocab)\n",
        "print(V)"
      ],
      "execution_count": 40,
      "outputs": [
        {
          "output_type": "stream",
          "text": [
            "Total words: 38111\n",
            "Unique words: 3017\n",
            "3017\n"
          ],
          "name": "stdout"
        }
      ]
    },
    {
      "cell_type": "markdown",
      "metadata": {
        "id": "nbqYjnykp7_u",
        "colab_type": "text"
      },
      "source": [
        "# One Hot encoding of context and centerwords\n",
        "\n"
      ]
    },
    {
      "cell_type": "code",
      "metadata": {
        "id": "VM2TPERAGsf4",
        "colab_type": "code",
        "colab": {}
      },
      "source": [
        "# sg=skipgram()\n",
        "x_train=[]\n",
        "y_train=[]\n",
        "window_size=5\n",
        "for i in range(len(corpus)):\n",
        "  w1=[0 for x in range(V)]\n",
        "  w1[vocab[corpus[i]]]=1\n",
        "  w2=[0 for x in range(V)]\n",
        "  for j in range(i-window_size,i+window_size+1):\n",
        "    if i!=j and j>=0 and j<len(corpus):\n",
        "      w2[vocab[corpus[j]]]=1\n",
        "  x_train.append(w1)\n",
        "  y_train.append(w2)\n",
        "\n"
      ],
      "execution_count": 41,
      "outputs": []
    },
    {
      "cell_type": "markdown",
      "metadata": {
        "id": "lEaSHl96qEpe",
        "colab_type": "text"
      },
      "source": [
        "# Softmax formula"
      ]
    },
    {
      "cell_type": "code",
      "metadata": {
        "id": "rOlDd7wvxUNf",
        "colab_type": "code",
        "colab": {}
      },
      "source": [
        "def softmax(x):\n",
        "\te_x = np.exp(x - np.max(x)) \n",
        "\treturn e_x / e_x.sum() "
      ],
      "execution_count": 42,
      "outputs": []
    },
    {
      "cell_type": "markdown",
      "metadata": {
        "id": "qZHUBsi_qHFv",
        "colab_type": "text"
      },
      "source": [
        "# Training Data and My Skipgram Training"
      ]
    },
    {
      "cell_type": "code",
      "metadata": {
        "id": "F--WZvuKtE9Z",
        "colab_type": "code",
        "colab": {
          "base_uri": "https://localhost:8080/",
          "height": 1000
        },
        "outputId": "e5b4efe5-4c77-4bf2-f470-4fabef94262c"
      },
      "source": [
        "epochs=4\n",
        "N=20\n",
        "alpha=0.0002\n",
        "W = np.random.uniform(-0.8, 0.8, (V, N))\n",
        "W1 = np.random.uniform(-0.8, 0.8, (N, V))\n",
        "print(W.shape)\n",
        "\n",
        "for x in range(1,epochs):\n",
        "  loss=0\n",
        "  # print(x)\n",
        "  for j in range(len(x_train)):\n",
        "    if(j%1000==0):\n",
        "      print(\"j\",j)\n",
        "    #forward\n",
        "    h = np.dot(W.T,x_train[j]).reshape(N,1) #w is center weight , X_train is center word\n",
        "    u = np.dot(W1.T,h) # w1=context weight\n",
        "    y = softmax(u) \n",
        "    #backward\n",
        "    e = y - np.asarray(y_train[j]).reshape(V,1)   #error of all context words\n",
        "    dLdW1 = np.dot(h,e.T) # delta context weights\n",
        "    X = np.array(x_train[j]).reshape(V,1) \n",
        "    dLdW = np.dot(X, np.dot(W1,e).T) # delta embedding weights\n",
        "    W1 = W1 - alpha*dLdW1 \n",
        "    W = W - alpha*dLdW \n",
        "    c1=0\n",
        "    for m in range(V):\n",
        "      if(y_train[j][m]):\n",
        "        loss+= -1*u[m][0]\n",
        "        c1 += 1\n",
        "    loss += c1*np.log(np.sum(np.exp(u)))\n",
        "  print(\"epoch \",x, \" loss = \",loss)\n",
        "  # alpha *= 1/( (1+alpha*x))    "
      ],
      "execution_count": 43,
      "outputs": [
        {
          "output_type": "stream",
          "text": [
            "(3017, 20)\n",
            "j 0\n",
            "j 1000\n",
            "j 2000\n",
            "j 3000\n",
            "j 4000\n",
            "j 5000\n",
            "j 6000\n",
            "j 7000\n",
            "j 8000\n",
            "j 9000\n",
            "j 10000\n",
            "j 11000\n",
            "j 12000\n",
            "j 13000\n",
            "j 14000\n",
            "j 15000\n",
            "j 16000\n",
            "j 17000\n",
            "j 18000\n",
            "j 19000\n",
            "j 20000\n",
            "j 21000\n",
            "j 22000\n",
            "j 23000\n",
            "j 24000\n",
            "j 25000\n",
            "j 26000\n",
            "j 27000\n",
            "j 28000\n",
            "j 29000\n",
            "j 30000\n",
            "j 31000\n",
            "j 32000\n",
            "j 33000\n",
            "j 34000\n",
            "j 35000\n",
            "j 36000\n",
            "j 37000\n",
            "j 38000\n",
            "epoch  1  loss =  3109006.515781254\n",
            "j 0\n",
            "j 1000\n",
            "j 2000\n",
            "j 3000\n",
            "j 4000\n",
            "j 5000\n",
            "j 6000\n",
            "j 7000\n",
            "j 8000\n",
            "j 9000\n",
            "j 10000\n",
            "j 11000\n",
            "j 12000\n",
            "j 13000\n",
            "j 14000\n",
            "j 15000\n",
            "j 16000\n",
            "j 17000\n",
            "j 18000\n",
            "j 19000\n",
            "j 20000\n",
            "j 21000\n",
            "j 22000\n",
            "j 23000\n",
            "j 24000\n",
            "j 25000\n",
            "j 26000\n",
            "j 27000\n",
            "j 28000\n",
            "j 29000\n",
            "j 30000\n",
            "j 31000\n",
            "j 32000\n",
            "j 33000\n",
            "j 34000\n",
            "j 35000\n",
            "j 36000\n",
            "j 37000\n",
            "j 38000\n",
            "epoch  2  loss =  3105943.2374076825\n",
            "j 0\n",
            "j 1000\n",
            "j 2000\n",
            "j 3000\n",
            "j 4000\n",
            "j 5000\n",
            "j 6000\n",
            "j 7000\n",
            "j 8000\n",
            "j 9000\n",
            "j 10000\n",
            "j 11000\n",
            "j 12000\n",
            "j 13000\n",
            "j 14000\n",
            "j 15000\n",
            "j 16000\n",
            "j 17000\n",
            "j 18000\n",
            "j 19000\n",
            "j 20000\n",
            "j 21000\n",
            "j 22000\n",
            "j 23000\n",
            "j 24000\n",
            "j 25000\n",
            "j 26000\n",
            "j 27000\n",
            "j 28000\n",
            "j 29000\n",
            "j 30000\n",
            "j 31000\n",
            "j 32000\n",
            "j 33000\n",
            "j 34000\n",
            "j 35000\n",
            "j 36000\n",
            "j 37000\n",
            "j 38000\n",
            "epoch  3  loss =  3102908.371833338\n"
          ],
          "name": "stdout"
        }
      ]
    },
    {
      "cell_type": "markdown",
      "metadata": {
        "id": "wrqZd6OAqTPm",
        "colab_type": "text"
      },
      "source": [
        "# TSNE and Cosine similarity of word=Home and printing 10 closest words"
      ]
    },
    {
      "cell_type": "code",
      "metadata": {
        "id": "TFCABTTaOzqS",
        "colab_type": "code",
        "colab": {}
      },
      "source": [
        "neighbours=10\n",
        "wrd=\"home\"\n",
        "target_vectors=[]\n",
        "word_vector=[]\n",
        "if wrd in corpus:\n",
        "  X = [0 for i in range(V)] \n",
        "  X[vocab[wrd]] = 1\n",
        "  h = np.dot(W.T,X).reshape(N,1) \n",
        "  word_vector=h\n",
        "  u = np.dot(W1.T,h) \n",
        "  y = softmax(u)\n",
        "  output = {} \n",
        "  for i in range(V): \n",
        "    output[y[i][0]] = i \n",
        "  # print(output)\n",
        "  # print(sorted(output,reverse=True))\n",
        "  top_context_words = [] \n",
        "  for k in sorted(output,reverse=True):\n",
        "    # print(\"k\",k)\n",
        "    # print(output[k])\n",
        "    wrd2=corpus[output[k]]\n",
        "    # print(wrd2)\n",
        "    y = [0 for i in range(V)] \n",
        "    y[vocab[wrd2]] = 1\n",
        "    h1 = np.dot(W.T,y).reshape(N,1)\n",
        "    target_vectors.append(h1)\n",
        "    top_context_words.append(corpus[output[k]]) \n",
        "    if(len(top_context_words)>=neighbours): \n",
        "      break\n",
        "  print(top_context_words) \n",
        "else: \n",
        "  print(\"Word not found in dicitonary\") \n",
        "\n",
        "from numpy import dot\n",
        "from numpy.linalg import norm\n",
        "\n",
        "def cos(a,b):\n",
        "  return dot(a, b)/(norm(a)*norm(b))\n",
        "\n",
        "def flat(l):\n",
        "  flat_list = []\n",
        "  for sublist in l:\n",
        "    for item in sublist:\n",
        "      flat_list.append(item)\n",
        "  return flat_list\n",
        "\n",
        "# print(target_vectors[0])\n",
        "print(wrd,cos(flat(word_vector),flat(word_vector)))\n",
        "for i in range(len(target_vectors)):\n",
        "  print(top_context_words[i],cos(flat(word_vector),flat(target_vectors[i])))"
      ],
      "execution_count": null,
      "outputs": []
    },
    {
      "cell_type": "markdown",
      "metadata": {
        "id": "8m7-rBfwqhUw",
        "colab_type": "text"
      },
      "source": [
        "# TSNE"
      ]
    },
    {
      "cell_type": "code",
      "metadata": {
        "id": "I8V89NldSsme",
        "colab_type": "code",
        "colab": {
          "base_uri": "https://localhost:8080/",
          "height": 320
        },
        "outputId": "cf3f6588-9edc-46e5-b42e-9075008d958a"
      },
      "source": [
        "import matplotlib.pyplot as plt\n",
        "from sklearn.manifold import TSNE\n",
        "top_context_words.append(wrd)\n",
        "target_vectors.append(h1) \n",
        "\n",
        "tsne = TSNE()\n",
        "tv=[]\n",
        "for i in target_vectors:\n",
        "  tv.append(flat(i))\n",
        "embed_tsne = tsne.fit_transform(tv)\n",
        "\n",
        "fig, ax = plt.subplots(figsize=(5, 5))\n",
        "for idx in range(len(target_vectors)):\n",
        "    plt.scatter(*embed_tsne[idx, :], color='steelblue')\n",
        "    plt.annotate(top_context_words[idx], (embed_tsne[idx, 0], embed_tsne[idx, 1]), alpha=0.7)\n"
      ],
      "execution_count": 46,
      "outputs": [
        {
          "output_type": "display_data",
          "data": {
            "image/png": "[encoded data removed]",
            "text/plain": [
              "<Figure size 360x360 with 1 Axes>"
            ]
          },
          "metadata": {
            "tags": [],
            "needs_background": "light"
          }
        }
      ]
    },
    {
      "cell_type": "markdown",
      "metadata": {
        "id": "H45c8AiFraUC",
        "colab_type": "text"
      },
      "source": [
        "# Gensim Comparison with word vector error calculation"
      ]
    },
    {
      "cell_type": "code",
      "metadata": {
        "id": "4ZrjU_w_ckOR",
        "colab_type": "code",
        "colab": {
          "base_uri": "https://localhost:8080/",
          "height": 105
        },
        "outputId": "bb47eb6e-1880-45e8-dd62-8f68a9e060bf"
      },
      "source": [
        "from gensim.models import Word2Vec\n",
        "import gensim.downloader as api\n",
        "corpus = api.load('text8')\n",
        "model = Word2Vec(corpus)\n",
        "\n",
        "gensim_vec = model.wv[wrd]\n",
        "print(\"The Mean Error between Gensim Embedding and My Embedding for The word\",wrd)\n",
        "print((np.square(gensim_vec - word_vector)).mean())"
      ],
      "execution_count": 47,
      "outputs": [
        {
          "output_type": "stream",
          "text": [
            "/usr/local/lib/python3.6/dist-packages/smart_open/smart_open_lib.py:254: UserWarning: This function is deprecated, use smart_open.open instead. See the migration notes for details: https://github.com/RaRe-Technologies/smart_open/blob/master/README.rst#migrating-to-the-new-open-function\n",
            "  'See the migration notes for details: %s' % _MIGRATION_NOTES_URL\n"
          ],
          "name": "stderr"
        },
        {
          "output_type": "stream",
          "text": [
            "The Mean Error between Gensim Embedding and My Embedding for The word home\n",
            "2.166143722306206\n"
          ],
          "name": "stdout"
        }
      ]
    }
  ]
}